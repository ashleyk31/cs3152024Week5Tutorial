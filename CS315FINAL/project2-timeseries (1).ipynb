{
 "cells": [
  {
   "cell_type": "code",
   "execution_count": 4,
   "id": "3b000450",
   "metadata": {},
   "outputs": [],
   "source": [
    "import pandas as pd\n",
    "from pandas import Series\n",
    "import matplotlib.pyplot as plt\n",
    "import json"
   ]
  },
  {
   "cell_type": "code",
   "execution_count": 5,
   "id": "698a237a",
   "metadata": {},
   "outputs": [],
   "source": [
    "filename = \"master.csv\""
   ]
  },
  {
   "cell_type": "code",
   "execution_count": null,
   "id": "015e64e3",
   "metadata": {},
   "outputs": [],
   "source": [
    "\n",
    "songtitle = list(set(df['sound']))\n",
    "\n",
    "\n",
    "conceited_df = saveTimeStamp('conceited')\n",
    "mwahmwah_df = saveTimeStamp('mwahmwah')\n",
    "savage_df = saveTimeStamp('savage')\n",
    "watertyla_df = saveTimeStamp('watertyla')\n",
    "tyla_df = saveTimeStamp('tyla')\n",
    "itgirl_df = saveTimeStamp('itgirl')\n",
    "nowahala_df = saveTimeStamp('nowahala')\n",
    "fancylike_df = saveTimeStamp('fancylike')\n",
    "dropittothefloor_df = saveTimeStamp('dropittothefloor')\n",
    "glo_df = saveTimeStamp('glo')\n",
    "flomilli_df = saveTimeStamp('flomilli')\n",
    "up_df = saveTimeStamp('up')\n",
    "heartbreak_df = saveTimeStamp('heartbreak')\n",
    "wannabe_df = saveTimeStamp('wannabe')\n",
    "thisyear_df = saveTimeStamp('thisyear')\n",
    "sweaterweather_df = saveTimeStamp('sweaterweather')\n",
    "bam_df = saveTimeStamp('bam')\n",
    "\n"
   ]
  },
  {
   "cell_type": "code",
   "execution_count": 50,
   "id": "8a744a52",
   "metadata": {},
   "outputs": [],
   "source": [
    "def makeTS(filename):\n",
    "    df = pd.read_csv(filename)\n",
    "    \n",
    "    newlist = []\n",
    "    \n",
    "    for row in df['video_timestamp']:\n",
    "        timestamp = str(row).split(\"T\")\n",
    "        newlist.append(\" \".join(timestamp))\n",
    "    df['video_timestamp_new'] = newlist\n",
    "\n",
    "    dates = pd.to_datetime(df['video_timestamp_new'], errors='coerce')\n",
    "    df.dropna(subset=['video_timestamp_new'], inplace=True)\n",
    "\n",
    "    df = df.iloc[:len(df['video_timestamp_new'])]\n",
    "    \n",
    "    ts = Series(list(df['video_likecount']), index=dates)\n",
    "\n",
    "    return ts\n",
    "\n",
    "\n",
    "\n",
    "def makeSubplot(ts,period,ax,color,label):\n",
    "    watches = ts.resample(period).count()\n",
    "    \n",
    "    if period =='W':\n",
    "        time = 'week'\n",
    "    elif period == 'M':\n",
    "        time = 'month'\n",
    "    elif period == 'D':\n",
    "        time = 'day' \n",
    "        \n",
    "    plt.plot(watches.index,watches,color=color, label=label)\n",
    "    #axs[ax].legend()\n",
    "    \n",
    "def makePlot(data,period):\n",
    "    #fig, axs = plt.subplots(len(data), 1, figsize=(10,len(data)*2))\n",
    "    \n",
    "    for i in range(len(data)):\n",
    "        filename = data[i]\n",
    "        ts = makeTS(filename)\n",
    "        color = plt.cm.viridis(i / len(data))  # Generate color based on position\n",
    "        label = filename[8:-5]\n",
    "        makeSubplot(ts,period,i,color,label)\n",
    "        \n",
    "    codes = [file[8:-5] for file in data]\n",
    "    #fig.legend(codes, loc='upper right')\n",
    "    \n",
    "    plt.tight_layout()\n",
    "    plt.show()"
   ]
  },
  {
   "cell_type": "code",
   "execution_count": 51,
   "id": "88d618d8",
   "metadata": {},
   "outputs": [
    {
     "data": {
      "image/png": "[encoded data removed]",
      "text/plain": [
       "<Figure size 640x480 with 1 Axes>"
      ]
     },
     "metadata": {},
     "output_type": "display_data"
    }
   ],
   "source": [
    "data = ['master.csv']\n",
    "makePlot(data,'W')"
   ]
  }
 ],
 "metadata": {
  "kernelspec": {
   "display_name": "Python 3 (ipykernel)",
   "language": "python",
   "name": "python3"
  },
  "language_info": {
   "codemirror_mode": {
    "name": "ipython",
    "version": 3
   },
   "file_extension": ".py",
   "mimetype": "text/x-python",
   "name": "python",
   "nbconvert_exporter": "python",
   "pygments_lexer": "ipython3",
   "version": "3.11.5"
  }
 },
 "nbformat": 4,
 "nbformat_minor": 5
}
